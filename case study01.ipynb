{
 "cells": [
  {
   "cell_type": "raw",
   "id": "c746c261",
   "metadata": {},
   "source": [
    "1. A school has following rules for grading system:\n",
    "a. Below 25 - F\n",
    "b. 25 to 45 - E\n",
    "c. 45 to 50 - D\n",
    "d. 50 to 60 - C\n",
    "e. 60 to 80 - B\n",
    "f. Above 80 - A\n",
    "Ask user to enter marks and print the corresponding grade"
   ]
  },
  {
   "cell_type": "code",
   "execution_count": 13,
   "id": "d2340761",
   "metadata": {},
   "outputs": [
    {
     "name": "stdout",
     "output_type": "stream",
     "text": [
      "enter the marks:12\n",
      "you are awarded grade F\n"
     ]
    }
   ],
   "source": [
    "mark=int(input(\"enter the marks:\"))\n",
    "if mark>80 and mark<=100:\n",
    "    print(\"you are awarded grade A\")\n",
    "elif(mark>=60 and mark<=80):\n",
    "    print(\"you are awarded grade B\")\n",
    "elif(mark>=50 and mark<=60):\n",
    "    print(\"you are awarded grade C\")\n",
    "elif(mark>=45 and mark<=50):\n",
    "    print(\"you are awarded grade D\")\n",
    "elif(mark>=25 and mark<=45):\n",
    "    print(\"you are awarded grade E\")\n",
    "elif(mark<=25):\n",
    "    print(\"you are awarded grade F\")\n",
    "else:\n",
    "    print(\"please enter your mark between 0 and 100\")\n",
    "\n",
    "    "
   ]
  },
  {
   "cell_type": "raw",
   "id": "f27074ca",
   "metadata": {},
   "source": [
    "2. You have a list of names. Create a new list which contains only the names \n",
    "with non-repeating characters. \n",
    "Sample input = [‘John’,’Peter’,’Meera’,’Mini’,’Krishna’]\n",
    "Sample output = [‘John’,Krishna]"
   ]
  },
  {
   "cell_type": "code",
   "execution_count": 151,
   "id": "d192d955",
   "metadata": {},
   "outputs": [
    {
     "name": "stdout",
     "output_type": "stream",
     "text": [
      "5\n",
      "['John', 'John', 'John', 'John', 'John', 'John']\n"
     ]
    }
   ],
   "source": [
    "sample=['John','Peter','Meera','Mini','Krishna']\n",
    "output=[]\n",
    "l=len(sample)\n",
    "print(l)\n",
    "for i in range(0,l+1):\n",
    "    for c in sample[0]:\n",
    "        l1=(sample[0].count(c))\n",
    "    if l1<2:\n",
    "        output.append(sample[0])\n",
    "    \n",
    "\n",
    "# for i in range(0,l+1):\n",
    "#     temp[]=sample[i]\n",
    "#         for c in temp:\n",
    "#             if c in len(sample[i]):\n",
    "#                 output.append(sample[0])\n",
    "print(output)\n",
    "\n",
    "\n",
    "    "
   ]
  },
  {
   "cell_type": "raw",
   "id": "4b32c559",
   "metadata": {},
   "source": [
    "3. Take values of length and breadth of a rectangle from user and check if it \n",
    "is square or not."
   ]
  },
  {
   "cell_type": "code",
   "execution_count": 152,
   "id": "aa77cbc8",
   "metadata": {},
   "outputs": [
    {
     "name": "stdout",
     "output_type": "stream",
     "text": [
      "enter the length of the rectangle:10\n",
      "enter the breadth of the rectangle:5\n",
      "it's not a square..\n"
     ]
    }
   ],
   "source": [
    "l=float(input(\"enter the length of the rectangle:\"))\n",
    "b=float(input(\"enter the breadth of the rectangle:\"))\n",
    "if (l==b):\n",
    "    print(\"it's a square..\")\n",
    "else:\n",
    "    print(\"it's not a square..\")\n"
   ]
  },
  {
   "cell_type": "raw",
   "id": "b4ea99cb",
   "metadata": {},
   "source": [
    "4. A student will not be allowed to sit in exam if his/her attendance is less \n",
    "than 75%. Take following input from user Number of classes held \n",
    "Number of classes attended. And print percentage of class attended Is \n",
    "student is allowed to sit in exam or not"
   ]
  },
  {
   "cell_type": "code",
   "execution_count": 12,
   "id": "a25c5ed0",
   "metadata": {},
   "outputs": [
    {
     "name": "stdout",
     "output_type": "stream",
     "text": [
      "enter the no:of classes held:200\n",
      "enter the no:of classes attended:150\n",
      "your attendence percentage is: 75.0\n",
      "you are eligible to sit in the exam:\n"
     ]
    }
   ],
   "source": [
    "n1=int(input(\"enter the no:of classes held:\"))\n",
    "n2=int(input(\"enter the no:of classes attended:\"))\n",
    "att=(n1*75)/100\n",
    "uratt=((n2/n1)*100)\n",
    "if (uratt<75):\n",
    "    print(\"your attendence percentage is:\",uratt)\n",
    "    print(\"you are not eligible to sit inthe exam:\")\n",
    "else:\n",
    "    print(\"your attendence percentage is:\",uratt)\n",
    "    print(\"you are eligible to sit in the exam:\")\n",
    "          "
   ]
  },
  {
   "cell_type": "raw",
   "id": "ac74d077",
   "metadata": {},
   "source": [
    "5. Create a list by taking length of the list and elements of the list from user. \n",
    "Then find the sum of the elements of the list. Also create a new called even \n",
    "list which contains only even numbers from first list and odd list which \n",
    "contains odd numbers from the list. \n",
    "Sample input:\n",
    "Length of the list = 5\n",
    "List1 = [2,6,3,1,5]\n",
    "Sum = 17\n",
    "Even_list=[2,6]\n",
    "Odd_list=[3,1,5"
   ]
  },
  {
   "cell_type": "code",
   "execution_count": 20,
   "id": "5d21897a",
   "metadata": {},
   "outputs": [
    {
     "name": "stdout",
     "output_type": "stream",
     "text": [
      "enter the length of the list:5\n",
      "enter the no:of elements:12\n",
      "enter the no:of elements:13\n",
      "enter the no:of elements:14\n",
      "enter the no:of elements:15\n",
      "enter the no:of elements:16\n",
      "[12, 13, 14, 15, 16]\n",
      "sum of the elements=  70\n",
      "the even arraylist: [12, 14, 16]\n",
      "the odd arraylist: [13, 15]\n"
     ]
    }
   ],
   "source": [
    "l=int(input(\"enter the length of the list:\"))\n",
    "list1=[]\n",
    "for i in range(1,l+1):\n",
    "    num=int(input(\"enter the no:of elements:\"))\n",
    "    list1.append(num)\n",
    "print(list1)\n",
    "\n",
    "# sum of the elements in the list:\n",
    "\n",
    "s=0\n",
    "for num in list1:\n",
    "    s=s+num\n",
    "print(\"sum of the elements= \",s)\n",
    "\n",
    "even_list=[]\n",
    "odd_list=[]\n",
    "\n",
    "# extracting even and odd num:\n",
    "\n",
    "for num in list1:\n",
    "    if(num%2==0):\n",
    "        even_list.append(num)\n",
    "    else:\n",
    "        odd_list.append(num)\n",
    "\n",
    "print(\"the even arraylist:\",even_list)\n",
    "print(\"the odd arraylist:\",odd_list)\n"
   ]
  },
  {
   "cell_type": "raw",
   "id": "aeef1308",
   "metadata": {},
   "source": [
    "6. Create a sample chatbot for an ecommerce website."
   ]
  },
  {
   "cell_type": "code",
   "execution_count": 111,
   "id": "d23edf5a",
   "metadata": {},
   "outputs": [
    {
     "name": "stdout",
     "output_type": "stream",
     "text": [
      "Welcome to the flipkart shopping hungama!!!\n",
      "enter quit to stop\n",
      "hi\n",
      "hi i'm here to help you..\n",
      "enter quit to stop\n",
      "item\n",
      "which item do you need to shop?we have  great offers on each!!..\n",
      "enter quit to stop\n",
      "shirts\n",
      "well,please specify your size:\n",
      "enter quit to stop\n",
      "rate\n",
      "please specify your range of rate?\n",
      "enter quit to stop\n",
      "colour\n",
      "which colour do you like to shop?\n",
      "enter quit to stop\n",
      "over\n",
      "we are very much excited to know your shopping experience with us?\n",
      "enter quit to stop\n",
      "happy\n",
      "Thank you for your valuable feedback!!come again and shop with us.\n"
     ]
    },
    {
     "ename": "KeyboardInterrupt",
     "evalue": "Interrupted by user",
     "output_type": "error",
     "traceback": [
      "\u001b[1;31m---------------------------------------------------------------------------\u001b[0m",
      "\u001b[1;31mKeyboardInterrupt\u001b[0m                         Traceback (most recent call last)",
      "\u001b[1;32m~\\AppData\\Local\\Temp\\ipykernel_47168\\1239447016.py\u001b[0m in \u001b[0;36m<module>\u001b[1;34m\u001b[0m\n\u001b[0;32m      3\u001b[0m \u001b[1;33m\u001b[0m\u001b[0m\n\u001b[0;32m      4\u001b[0m \u001b[1;32mwhile\u001b[0m \u001b[1;32mTrue\u001b[0m\u001b[1;33m:\u001b[0m\u001b[1;33m\u001b[0m\u001b[1;33m\u001b[0m\u001b[0m\n\u001b[1;32m----> 5\u001b[1;33m     \u001b[0mx\u001b[0m\u001b[1;33m=\u001b[0m\u001b[0minput\u001b[0m\u001b[1;33m(\u001b[0m\u001b[1;34m\"enter quit to stop\\n\"\u001b[0m\u001b[1;33m)\u001b[0m\u001b[1;33m\u001b[0m\u001b[1;33m\u001b[0m\u001b[0m\n\u001b[0m\u001b[0;32m      6\u001b[0m     \u001b[0mx\u001b[0m\u001b[1;33m=\u001b[0m\u001b[0mx\u001b[0m\u001b[1;33m.\u001b[0m\u001b[0mlower\u001b[0m\u001b[1;33m(\u001b[0m\u001b[1;33m)\u001b[0m\u001b[1;33m\u001b[0m\u001b[1;33m\u001b[0m\u001b[0m\n\u001b[0;32m      7\u001b[0m     \u001b[1;32mif\u001b[0m \u001b[0mx\u001b[0m\u001b[1;33m==\u001b[0m\u001b[1;34m'quit'\u001b[0m\u001b[1;33m:\u001b[0m\u001b[1;33m\u001b[0m\u001b[1;33m\u001b[0m\u001b[0m\n",
      "\u001b[1;32m~\\anaconda3\\lib\\site-packages\\ipykernel\\kernelbase.py\u001b[0m in \u001b[0;36mraw_input\u001b[1;34m(self, prompt)\u001b[0m\n\u001b[0;32m   1175\u001b[0m                 \u001b[1;34m\"raw_input was called, but this frontend does not support input requests.\"\u001b[0m\u001b[1;33m\u001b[0m\u001b[1;33m\u001b[0m\u001b[0m\n\u001b[0;32m   1176\u001b[0m             )\n\u001b[1;32m-> 1177\u001b[1;33m         return self._input_request(\n\u001b[0m\u001b[0;32m   1178\u001b[0m             \u001b[0mstr\u001b[0m\u001b[1;33m(\u001b[0m\u001b[0mprompt\u001b[0m\u001b[1;33m)\u001b[0m\u001b[1;33m,\u001b[0m\u001b[1;33m\u001b[0m\u001b[1;33m\u001b[0m\u001b[0m\n\u001b[0;32m   1179\u001b[0m             \u001b[0mself\u001b[0m\u001b[1;33m.\u001b[0m\u001b[0m_parent_ident\u001b[0m\u001b[1;33m[\u001b[0m\u001b[1;34m\"shell\"\u001b[0m\u001b[1;33m]\u001b[0m\u001b[1;33m,\u001b[0m\u001b[1;33m\u001b[0m\u001b[1;33m\u001b[0m\u001b[0m\n",
      "\u001b[1;32m~\\anaconda3\\lib\\site-packages\\ipykernel\\kernelbase.py\u001b[0m in \u001b[0;36m_input_request\u001b[1;34m(self, prompt, ident, parent, password)\u001b[0m\n\u001b[0;32m   1217\u001b[0m             \u001b[1;32mexcept\u001b[0m \u001b[0mKeyboardInterrupt\u001b[0m\u001b[1;33m:\u001b[0m\u001b[1;33m\u001b[0m\u001b[1;33m\u001b[0m\u001b[0m\n\u001b[0;32m   1218\u001b[0m                 \u001b[1;31m# re-raise KeyboardInterrupt, to truncate traceback\u001b[0m\u001b[1;33m\u001b[0m\u001b[1;33m\u001b[0m\u001b[0m\n\u001b[1;32m-> 1219\u001b[1;33m                 \u001b[1;32mraise\u001b[0m \u001b[0mKeyboardInterrupt\u001b[0m\u001b[1;33m(\u001b[0m\u001b[1;34m\"Interrupted by user\"\u001b[0m\u001b[1;33m)\u001b[0m \u001b[1;32mfrom\u001b[0m \u001b[1;32mNone\u001b[0m\u001b[1;33m\u001b[0m\u001b[1;33m\u001b[0m\u001b[0m\n\u001b[0m\u001b[0;32m   1220\u001b[0m             \u001b[1;32mexcept\u001b[0m \u001b[0mException\u001b[0m\u001b[1;33m:\u001b[0m\u001b[1;33m\u001b[0m\u001b[1;33m\u001b[0m\u001b[0m\n\u001b[0;32m   1221\u001b[0m                 \u001b[0mself\u001b[0m\u001b[1;33m.\u001b[0m\u001b[0mlog\u001b[0m\u001b[1;33m.\u001b[0m\u001b[0mwarning\u001b[0m\u001b[1;33m(\u001b[0m\u001b[1;34m\"Invalid Message:\"\u001b[0m\u001b[1;33m,\u001b[0m \u001b[0mexc_info\u001b[0m\u001b[1;33m=\u001b[0m\u001b[1;32mTrue\u001b[0m\u001b[1;33m)\u001b[0m\u001b[1;33m\u001b[0m\u001b[1;33m\u001b[0m\u001b[0m\n",
      "\u001b[1;31mKeyboardInterrupt\u001b[0m: Interrupted by user"
     ]
    }
   ],
   "source": [
    "print(\"Welcome to the flipkart shopping hungama!!!\")\n",
    "\n",
    "\n",
    "while True:\n",
    "    x=input(\"enter quit to stop\\n\")\n",
    "    x=x.lower()\n",
    "    if x=='quit':\n",
    "        print('Thank you for shopping with us..come again!')\n",
    "        break\n",
    "    y=x.split()\n",
    "    if 'hi'in y:\n",
    "        print(\"hi i'm here to help you..\")\n",
    "    elif 'morning' in y:\n",
    "        print(\"very goodmorning to you!!!\")\n",
    "    elif 'item' in y:\n",
    "        print(\"which item do you need to shop?we have  great offers on each!!..\")\n",
    "    elif 'shirts' in y:\n",
    "        print(\"well,please specify your size:\")\n",
    "    elif 'rate' in y:\n",
    "        print(\"please specify your range of rate?\")\n",
    "    elif 'colour'in y:\n",
    "        print(\"which colour do you like to shop?\")\n",
    "    elif 'over'in y:\n",
    "        print(\"we are very much excited to know your shopping experience with us?\")\n",
    "    elif 'happy'in y:\n",
    "        print(\"Thank you for your valuable feedback!!come again and shop with us.\")\n",
    "        \n",
    "    \n",
    "    "
   ]
  },
  {
   "cell_type": "raw",
   "id": "53c4fc4c",
   "metadata": {},
   "source": [
    "7. Write a program to find the roots of a quadratic equation. Get the coefficients of quadratic equation ax^2+bx+c and display whether the roots \n",
    "are real and equal or real and distinct or roots are imaginary. You have to \n",
    "find the roots and display it as well."
   ]
  },
  {
   "cell_type": "code",
   "execution_count": 10,
   "id": "9331fca3",
   "metadata": {},
   "outputs": [
    {
     "name": "stdout",
     "output_type": "stream",
     "text": [
      "General form:ax**2+bx+c=0\n",
      "Enter a(a!=0):2\n",
      "Enter b:-8\n",
      "Enter c:3\n",
      "\n",
      "\n",
      "Results for the equation,2x**2+-8x+3=0,are:\n",
      "\n",
      "Type of Roots:Two Distinct RealRoots:\n",
      "The solutions are (3.58113883008419+0j)and(0.41886116991581024+0j)\n"
     ]
    }
   ],
   "source": [
    "import cmath\n",
    "print(\"General form:ax**2+bx+c=0\")\n",
    "\n",
    "# getting coeeficients from the user\n",
    "\n",
    "a= int(input(\"Enter a(a!=0):\"))\n",
    "b= int(input(\"Enter b:\"))\n",
    "c= int(input(\"Enter c:\"))\n",
    "\n",
    "# calcualting the discriminant value:\n",
    "\n",
    "d=(b**2)-(4*a*c)\n",
    "\n",
    "# calculating the solutions of the quadratic equation:\n",
    "\n",
    "sol1=(-b+cmath.sqrt(d))/(2*a)\n",
    "sol2=(-b-cmath.sqrt(d))/(2*a)\n",
    "\n",
    "print(\"\\n\")\n",
    "print(f\"Results for the equation,{a}x**2+{b}x+{c}=0,are:\\n\")\n",
    "\n",
    "if d>0:\n",
    "    print(\"Type of Roots:Two Distinct RealRoots:\")\n",
    "elif d==0:\n",
    "    print(\"Type of Roots:Two Equal RealRoots:\")\n",
    "elif d<0:\n",
    "    print(\"Type of Roots:ImaginaryRoots:\")\n",
    "\n",
    "          \n",
    "print(f\"The solutions are {sol1}and{sol2}\")"
   ]
  },
  {
   "cell_type": "code",
   "execution_count": 11,
   "id": "3d3482be",
   "metadata": {},
   "outputs": [
    {
     "name": "stdout",
     "output_type": "stream",
     "text": [
      "General form:ax**2+bx+c=0\n",
      "Enter a(a!=0):4\n",
      "Enter b:-4\n",
      "Enter c:1\n",
      "\n",
      "\n",
      "Results for the equation,4x**2+-4x+1=0,are:\n",
      "\n",
      "Type of Roots:Two Equal RealRoots:\n",
      "The solutions are (0.5+0j)and(0.5+0j)\n"
     ]
    }
   ],
   "source": [
    "import cmath\n",
    "print(\"General form:ax**2+bx+c=0\")\n",
    "\n",
    "# getting coeeficients from the user\n",
    "\n",
    "a= int(input(\"Enter a(a!=0):\"))\n",
    "b= int(input(\"Enter b:\"))\n",
    "c= int(input(\"Enter c:\"))\n",
    "\n",
    "# calcualting the discriminant value:\n",
    "\n",
    "d=(b**2)-(4*a*c)\n",
    "\n",
    "# calculating the solutions of the quadratic equation:\n",
    "\n",
    "sol1=(-b+cmath.sqrt(d))/(2*a)\n",
    "sol2=(-b-cmath.sqrt(d))/(2*a)\n",
    "\n",
    "print(\"\\n\")\n",
    "print(f\"Results for the equation,{a}x**2+{b}x+{c}=0,are:\\n\")\n",
    "\n",
    "if d>0:\n",
    "    print(\"Type of Roots:Two Distinct RealRoots:\")\n",
    "elif d==0:\n",
    "    print(\"Type of Roots:Two Equal RealRoots:\")\n",
    "elif d<0:\n",
    "    print(\"Type of Roots:ImaginaryRoots:\")\n",
    "\n",
    "          \n",
    "print(f\"The solutions are {sol1}and{sol2}\")"
   ]
  },
  {
   "cell_type": "code",
   "execution_count": 12,
   "id": "2dc20fac",
   "metadata": {},
   "outputs": [
    {
     "name": "stdout",
     "output_type": "stream",
     "text": [
      "General form:ax**2+bx+c=0\n",
      "Enter a(a!=0):1\n",
      "Enter b:4\n",
      "Enter c:5\n",
      "\n",
      "\n",
      "Results for the equation,1x**2+4x+5=0,are:\n",
      "\n",
      "Type of Roots:ImaginaryRoots:\n",
      "The solutions are (-2+1j)and(-2-1j)\n"
     ]
    }
   ],
   "source": [
    "import cmath\n",
    "print(\"General form:ax**2+bx+c=0\")\n",
    "\n",
    "# getting coeeficients from the user\n",
    "\n",
    "a= int(input(\"Enter a(a!=0):\"))\n",
    "b= int(input(\"Enter b:\"))\n",
    "c= int(input(\"Enter c:\"))\n",
    "\n",
    "# calcualting the discriminant value:\n",
    "\n",
    "d=(b**2)-(4*a*c)\n",
    "\n",
    "# calculating the solutions of the quadratic equation:\n",
    "\n",
    "sol1=(-b+cmath.sqrt(d))/(2*a)\n",
    "sol2=(-b-cmath.sqrt(d))/(2*a)\n",
    "\n",
    "print(\"\\n\")\n",
    "print(f\"Results for the equation,{a}x**2+{b}x+{c}=0,are:\\n\")\n",
    "\n",
    "if d>0:\n",
    "    print(\"Type of Roots:Two Distinct RealRoots:\")\n",
    "elif d==0:\n",
    "    print(\"Type of Roots:Two Equal RealRoots:\")\n",
    "elif d<0:\n",
    "    print(\"Type of Roots:ImaginaryRoots:\")\n",
    "\n",
    "          \n",
    "print(f\"The solutions are {sol1}and{sol2}\")"
   ]
  },
  {
   "cell_type": "raw",
   "id": "64909df3",
   "metadata": {},
   "source": [
    "8. Given a range of first 10 numbers, write a Python program to iterate from \n",
    "start number to the end number and print the sum of the current number \n",
    "and previous number. \n",
    "Sample input: 1….10 \n",
    "Sample output: Current Number 1 Previous Number 0 Sum: 1\n",
    "Current Number 2 Previous Number 1 Sum: 3 \n",
    "Current Number 3 Previous Number 2 Sum: 5… \n",
    "…….\n",
    "Current Number 10 Previous Number 9 Sum: 19"
   ]
  },
  {
   "cell_type": "code",
   "execution_count": 65,
   "id": "98f9ae5a",
   "metadata": {},
   "outputs": [
    {
     "name": "stdout",
     "output_type": "stream",
     "text": [
      "10\n",
      "Current Number: 1 Previous Number: 0 sum: 1\n",
      "Current Number: 2 Previous Number: 1 sum: 3\n",
      "Current Number: 3 Previous Number: 2 sum: 5\n",
      "Current Number: 4 Previous Number: 3 sum: 7\n",
      "Current Number: 5 Previous Number: 4 sum: 9\n",
      "Current Number: 6 Previous Number: 5 sum: 11\n",
      "Current Number: 7 Previous Number: 6 sum: 13\n",
      "Current Number: 8 Previous Number: 7 sum: 15\n",
      "Current Number: 9 Previous Number: 8 sum: 17\n",
      "Current Number: 10 Previous Number: 9 sum: 19\n",
      "execution completed:\n"
     ]
    }
   ],
   "source": [
    "s=0\n",
    "li=[1,2,3,4,5,6,7,8,9,10]\n",
    "l=len(li)\n",
    "print(l)\n",
    "\n",
    "print(\"Current Number:\",li[0],end=\" \")\n",
    "print(\"Previous Number:\",s,end=\" \")\n",
    "print(\"sum:\",li[0]+s)\n",
    "    \n",
    "for i in range(1,l): \n",
    "    print(\"Current Number:\",li[i],end=\" \")\n",
    "    print(\"Previous Number:\",li[i-1],end=\" \")\n",
    "    print(\"sum:\",li[i]+li[i-1])\n",
    "print (\"execution completed:\")\n",
    "    "
   ]
  },
  {
   "cell_type": "raw",
   "id": "63866b58",
   "metadata": {},
   "source": [
    "9. Write a Python program to find the prime numbers in a given range. Get \n",
    "the range from user and print prime numbers in that range"
   ]
  },
  {
   "cell_type": "code",
   "execution_count": 55,
   "id": "d6458479",
   "metadata": {},
   "outputs": [
    {
     "name": "stdout",
     "output_type": "stream",
     "text": [
      "Enter the starting  range of numbers forwhich to list the primenumbers:10\n",
      "Enter the ending range of numbers 20\n",
      "The prime numbers in the range 10 to 20\n",
      "11 13 17 19 "
     ]
    }
   ],
   "source": [
    "start=int(input(\"Enter the starting  range of numbers forwhich to list the primenumbers:\"))\n",
    "end=int((input(\"Enter the ending range of numbers \")))\n",
    "print(\"The prime numbers in the range\",start, \"to\", end)\n",
    "for i in range(start,end+1):\n",
    "    flag=0\n",
    "    for j in range(2,i):\n",
    "        if(i%j==0):\n",
    "            flag=1\n",
    "            break\n",
    "    if(flag==0):\n",
    "        print(i,end=\" \")\n",
    "        \n",
    "          "
   ]
  },
  {
   "cell_type": "raw",
   "id": "27ff14a5",
   "metadata": {},
   "source": [
    "10. Write a Python program to print Fibonacci series in a given range. Get \n",
    "the range from user and print fibbonacci numbers in that range"
   ]
  },
  {
   "cell_type": "code",
   "execution_count": 59,
   "id": "e032ceb4",
   "metadata": {},
   "outputs": [
    {
     "name": "stdout",
     "output_type": "stream",
     "text": [
      "Enter the no:of terms needed in fibbonacci series:8\n",
      "0 1 1 2 3 5 8 13 "
     ]
    }
   ],
   "source": [
    "n=int(input(\"Enter the no:of terms needed in fibbonacci series:\"))\n",
    "f1,f2=0,1    \n",
    "if(n==1):\n",
    "    print(f1)\n",
    "elif(n==2):\n",
    "    print(f1,f2)\n",
    "else:\n",
    "    print(f1,f2,end=\" \")\n",
    "    for i in range(3,n+1):\n",
    "        f3=f1+f2\n",
    "        print(f3,end=' ')\n",
    "        f1=f2\n",
    "        f2=f3"
   ]
  },
  {
   "cell_type": "code",
   "execution_count": null,
   "id": "f70dcb3c",
   "metadata": {},
   "outputs": [],
   "source": []
  }
 ],
 "metadata": {
  "kernelspec": {
   "display_name": "Python 3 (ipykernel)",
   "language": "python",
   "name": "python3"
  },
  "language_info": {
   "codemirror_mode": {
    "name": "ipython",
    "version": 3
   },
   "file_extension": ".py",
   "mimetype": "text/x-python",
   "name": "python",
   "nbconvert_exporter": "python",
   "pygments_lexer": "ipython3",
   "version": "3.9.13"
  }
 },
 "nbformat": 4,
 "nbformat_minor": 5
}
